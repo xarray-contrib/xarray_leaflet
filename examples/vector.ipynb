{
 "cells": [
  {
   "cell_type": "code",
   "execution_count": null,
   "id": "15eefe2f-7d1b-4814-9a5b-3b57df451fd7",
   "metadata": {},
   "outputs": [],
   "source": [
    "from functools import partial\n",
    "from geocube.rasterize import rasterize_image\n",
    "from rasterio.enums import MergeAlg\n",
    "import geopandas as gpd\n",
    "from ipyleaflet import LocalTileLayer, LayersControl, Map, WidgetControl, basemaps\n",
    "from ipywidgets import FloatSlider\n",
    "import xarray_leaflet\n",
    "import matplotlib.pyplot as plt"
   ]
  },
  {
   "cell_type": "code",
   "execution_count": null,
   "id": "30114fbe-e6ef-4547-98ab-28686f8980b1",
   "metadata": {},
   "outputs": [],
   "source": [
    "!wget https://buvgqw.bn.files.1drv.com/y4mfvXuGSzKq4f0kjv2H_oZu4bMlnBwc0DdNsiQlpU5n44kIBi_479j2EkkNUNeSUWh0CMTEMhXBv79Q9URaTbPUNqwGSnh9tkkROTV1zrQy74AI_7rs4N7Jg9-DM61j1jMzKRe7HM85ypx2cmYqZPCOoOQizqgVHfNNxBB1RnM1hpmzXW882ySSzW0jW77vZ5AdBIKDCP9ud83nGpqAkBFFQ -O ny.zip\n",
    "!unzip ny.zip"
   ]
  },
  {
   "cell_type": "code",
   "execution_count": null,
   "id": "ab8cd637-be46-4953-96a8-edd918aeccf8",
   "metadata": {},
   "outputs": [],
   "source": [
    "df = gpd.read_file(\"bldg_footprints.shp\")"
   ]
  },
  {
   "cell_type": "code",
   "execution_count": null,
   "id": "9b8d004d-bb98-4b00-8fbf-3940c5f6839f",
   "metadata": {},
   "outputs": [],
   "source": [
    "m = Map(center=(40.74427755695474, -73.96981238541562), zoom=11, basemap=basemaps.CartoDB.DarkMatter, interpolation='nearest')\n",
    "m"
   ]
  },
  {
   "cell_type": "code",
   "execution_count": null,
   "id": "1b8c5917-3d8c-468d-9455-0626f79c0746",
   "metadata": {},
   "outputs": [],
   "source": [
    "rasterize_function = partial(rasterize_image, merge_alg=MergeAlg.add, all_touched=False)\n",
    "layer = partial(LocalTileLayer, max_zoom=20)\n",
    "l = df.leaflet.plot(m, measurement=\"Height\", layer=layer, dynamic=False, rasterize_function=rasterize_function, colormap=plt.cm.viridis)"
   ]
  },
  {
   "cell_type": "code",
   "execution_count": null,
   "id": "71994d0c-848f-42f2-bc3e-71efd4f216f0",
   "metadata": {},
   "outputs": [],
   "source": [
    "layers_control = LayersControl(position='topright')\n",
    "m.add_control(layers_control)\n",
    "\n",
    "opacity_slider = FloatSlider(description='Opacity:', min=0, max=1, value=1)\n",
    "\n",
    "def set_opacity(change):\n",
    "    l.opacity = change['new']\n",
    "\n",
    "opacity_slider.observe(set_opacity, names='value')\n",
    "slider_control = WidgetControl(widget=opacity_slider, position='bottomleft')\n",
    "m.add_control(slider_control)"
   ]
  }
 ],
 "metadata": {
  "kernelspec": {
   "display_name": "Python 3 (ipykernel)",
   "language": "python",
   "name": "python3"
  },
  "language_info": {
   "codemirror_mode": {
    "name": "ipython",
    "version": 3
   },
   "file_extension": ".py",
   "mimetype": "text/x-python",
   "name": "python",
   "nbconvert_exporter": "python",
   "pygments_lexer": "ipython3",
   "version": "3.10.6"
  }
 },
 "nbformat": 4,
 "nbformat_minor": 5
}
