{
 "cells": [
  {
   "cell_type": "code",
   "execution_count": null,
   "id": "b2379023-e8b8-4aa1-b4e6-ae854272dadb",
   "metadata": {},
   "outputs": [],
   "source": [
    "import geopandas as gpd\n",
    "import xarray_leaflet\n",
    "import matplotlib.pyplot as plt\n",
    "import numpy as np\n",
    "import scipy.ndimage\n",
    "from functools import partial\n",
    "from ipyleaflet import LocalTileLayer, Map, basemaps\n",
    "from geocube.rasterize import rasterize_image\n",
    "from rasterio.enums import MergeAlg\n",
    "from shapely.geometry import Point"
   ]
  },
  {
   "cell_type": "code",
   "execution_count": null,
   "id": "02a93eb4-420a-4533-9805-fabd1994d351",
   "metadata": {},
   "outputs": [],
   "source": [
    "def transform3(array, *args, **kwargs):\n",
    "    radius = 10\n",
    "    circle = np.zeros((2*radius+1, 2*radius+1))\n",
    "    y, x = np.ogrid[-radius:radius+1,-radius:radius+1]\n",
    "    index = x**2 + y**2 <= radius**2\n",
    "    circle[index] = 1\n",
    "    array = np.nan_to_num(array, nan=-1)\n",
    "    array = scipy.ndimage.maximum_filter(array, footprint=circle)\n",
    "    array[array < 0] = np.nan\n",
    "    return array"
   ]
  },
  {
   "cell_type": "code",
   "execution_count": null,
   "id": "f804e6d8-6444-4674-9168-c2f31d273931",
   "metadata": {},
   "outputs": [],
   "source": [
    "df = gpd.GeoDataFrame(geometry=[\n",
    "    Point(-50.31188964843751, -0.5273363048115043),\n",
    "    Point(-50.52062988281251, -0.5548009001919478),\n",
    "]).set_crs(\"epsg:4326\")\n",
    "df[\"value\"] = [0, 1]"
   ]
  },
  {
   "cell_type": "code",
   "execution_count": null,
   "id": "edb7db9b-f613-4ed7-a419-aaa3866d7363",
   "metadata": {},
   "outputs": [],
   "source": [
    "m = Map(center=(-0.5273363048115043, -50.31188964843751), zoom=9, basemap=basemaps.CartoDB.DarkMatter, interpolation='nearest')\n",
    "m"
   ]
  },
  {
   "cell_type": "code",
   "execution_count": null,
   "id": "cc882ba4-d1b3-4aa7-a007-79888e554ea5",
   "metadata": {},
   "outputs": [],
   "source": [
    "rasterize_function = partial(rasterize_image, merge_alg=MergeAlg.replace, all_touched=False)\n",
    "layer = partial(LocalTileLayer, max_zoom=20)\n",
    "l = df.leaflet.plot(\n",
    "    m,\n",
    "    measurement=\"value\",\n",
    "    transform3=transform3,\n",
    "    layer=layer,\n",
    "    dynamic=False,\n",
    "    rasterize_function=rasterize_function,\n",
    "    colormap=plt.cm.viridis\n",
    ")"
   ]
  }
 ],
 "metadata": {
  "kernelspec": {
   "display_name": "Python 3 (ipykernel)",
   "language": "python",
   "name": "python3"
  },
  "language_info": {
   "codemirror_mode": {
    "name": "ipython",
    "version": 3
   },
   "file_extension": ".py",
   "mimetype": "text/x-python",
   "name": "python",
   "nbconvert_exporter": "python",
   "pygments_lexer": "ipython3",
   "version": "3.10.6"
  }
 },
 "nbformat": 4,
 "nbformat_minor": 5
}
